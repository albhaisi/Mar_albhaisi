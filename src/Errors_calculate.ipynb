

import unittest

import numpy as np
from numpy.testing import assert_array_almost_equal
from pyquaternion import Quaternion

from nuscenes.eval.common.utils import attr_acc, scale_iou, yaw_diff, angle_diff, center_distance,velocity_l2, \
    cummean
from nuscenes.eval.detection.data_classes import DetectionBox



    


class TestEval(unittest.TestCase):
#to calculate IOU
    def test_scale_iou(self):
        """Test valid and invalid inputs for scale_iou()."""
        
        sa = DetectionBox(size=(2.014,4.717,2.007))
        sr = DetectionBox(size=(1.9418849363605446,4.612249450821618,1.795751371093189))
        res = scale_iou(sa, sr)
        #print('IOU=',res)
        #To check results see print(sa)
        
    
     
#To calculate orientation error
    def test_yaw_diff(self):
        """Test valid and invalid inputs for yaw_diff()."""

        # Identical rotation.
        sa = DetectionBox(rotation=(0.2155790312445122,0.0,0,0.9764863958538683 ))
        sr = DetectionBox(rotation=(0.19346505696684174,0,0,0.9811071662834886 ))
        diff = yaw_diff(sa, sr)
        #print('Orien_error=',diff)

 
#to calculate translation error
    def test_center_distance(self):
        #"""Test for center_distance()."""
        sa = DetectionBox(translation=(357.27,1108.683,0.681 ))
        sr = DetectionBox(translation=(357.3680037008929,1108.5430252804324 ,0.8327501876111167))
        trans = center_distance(sa, sr)
        #print('trans_error=',trans)
        


if __name__ == '__main__':
    unittest.main()
